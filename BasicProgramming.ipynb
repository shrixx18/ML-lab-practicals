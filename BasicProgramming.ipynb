{
  "nbformat": 4,
  "nbformat_minor": 0,
  "metadata": {
    "colab": {
      "provenance": [],
      "authorship_tag": "ABX9TyPEMWPlxT7E1QkHzUdB+XyZ",
      "include_colab_link": true
    },
    "kernelspec": {
      "name": "python3",
      "display_name": "Python 3"
    },
    "language_info": {
      "name": "python"
    }
  },
  "cells": [
    {
      "cell_type": "markdown",
      "metadata": {
        "id": "view-in-github",
        "colab_type": "text"
      },
      "source": [
        "<a href=\"https://colab.research.google.com/github/shrixx18/ML-lab-practicals/blob/main/Shri_ML_lab_2.ipynb\" target=\"_parent\"><img src=\"https://colab.research.google.com/assets/colab-badge.svg\" alt=\"Open In Colab\"/></a>"
      ]
    },
    {
      "cell_type": "markdown",
      "source": [
        "Printing table :"
      ],
      "metadata": {
        "id": "2NnnFJPrCEpc"
      }
    },
    {
      "cell_type": "code",
      "execution_count": null,
      "metadata": {
        "colab": {
          "base_uri": "https://localhost:8080/"
        },
        "id": "ijkrpISMAkX1",
        "outputId": "1fdc930d-3ba3-4315-b734-1f78e65081fc"
      },
      "outputs": [
        {
          "output_type": "stream",
          "name": "stdout",
          "text": [
            "Enter the number : 12\n",
            "12  x  1  =  12\n",
            "12  x  2  =  24\n",
            "12  x  3  =  36\n",
            "12  x  4  =  48\n",
            "12  x  5  =  60\n",
            "12  x  6  =  72\n",
            "12  x  7  =  84\n",
            "12  x  8  =  96\n",
            "12  x  9  =  108\n",
            "12  x  10  =  120\n"
          ]
        }
      ],
      "source": [
        "x = int(input(\"Enter the number : \"))\n",
        "for i in range (1,11):\n",
        "  print(x,\" x \",i,\" = \",x*i)"
      ]
    },
    {
      "cell_type": "markdown",
      "source": [
        "List and list comprehension :"
      ],
      "metadata": {
        "id": "-JEip-4ACdIE"
      }
    },
    {
      "cell_type": "code",
      "source": [
        "fruits = [\"Apple\",\"Banana\",\"Pineapple\",\"Papaya\",\"Orange\"]\n",
        "OddL = []\n",
        "newL = []\n",
        "for i in fruits :\n",
        "  if 'p' in i:\n",
        "    newL.append(i)\n",
        "  else :\n",
        "    OddL.append(i)\n",
        "print(\"fruits is : \",fruits)\n",
        "print(\"newL is : \",newL)\n",
        "print(\"OddL is : \",OddL)\n"
      ],
      "metadata": {
        "colab": {
          "base_uri": "https://localhost:8080/"
        },
        "id": "djJOEK_UCI0k",
        "outputId": "6d414cd1-5b6c-4353-be64-d3a3494c2805"
      },
      "execution_count": null,
      "outputs": [
        {
          "output_type": "stream",
          "name": "stdout",
          "text": [
            "fruits is :  ['Apple', 'Banana', 'Pineapple', 'Papaya', 'Orange']\n",
            "newL is :  ['Apple', 'Pineapple', 'Papaya']\n",
            "OddL is :  ['Banana', 'Orange']\n"
          ]
        }
      ]
    },
    {
      "cell_type": "markdown",
      "source": [
        "Tupples :"
      ],
      "metadata": {
        "id": "iPa446sEFTXx"
      }
    },
    {
      "cell_type": "code",
      "source": [
        "marks = (18,19,15,20)\n",
        "print(marks[1:4])\n",
        "print(marks[:4])\n",
        "print(marks[::-1])\n",
        "print(marks[:-2])\n"
      ],
      "metadata": {
        "colab": {
          "base_uri": "https://localhost:8080/"
        },
        "id": "Hw7pmCfCFTEC",
        "outputId": "660e6519-453c-4fff-aba7-0255d424ba3a"
      },
      "execution_count": null,
      "outputs": [
        {
          "output_type": "stream",
          "name": "stdout",
          "text": [
            "(19, 15, 20)\n",
            "(18, 19, 15, 20)\n",
            "(20, 15, 19, 18)\n",
            "(18, 19)\n"
          ]
        }
      ]
    },
    {
      "cell_type": "markdown",
      "source": [
        "String :"
      ],
      "metadata": {
        "id": "4a-6ToajHQAx"
      }
    },
    {
      "cell_type": "code",
      "source": [
        "Name = \"Mahendra Bahubali\"\n",
        "print(Name)\n",
        "firstName = Name[:8]\n",
        "lastName = Name[9:]\n",
        "print(\"Hello Mr.{} {}\".format(firstName,lastName))"
      ],
      "metadata": {
        "colab": {
          "base_uri": "https://localhost:8080/"
        },
        "id": "IIxygJXVHvXw",
        "outputId": "532a6749-e799-48f6-9e8c-f2bfa6cadba8"
      },
      "execution_count": null,
      "outputs": [
        {
          "output_type": "stream",
          "name": "stdout",
          "text": [
            "Mahendra Bahubali\n",
            "Hello Mr.Mahendra Bahubali\n"
          ]
        }
      ]
    },
    {
      "cell_type": "markdown",
      "source": [
        "Functions in python:\n"
      ],
      "metadata": {
        "id": "t6WiZs7WKzgW"
      }
    },
    {
      "cell_type": "code",
      "source": [],
      "metadata": {
        "id": "mZruipk2K5uF"
      },
      "execution_count": null,
      "outputs": []
    }
  ]
}
